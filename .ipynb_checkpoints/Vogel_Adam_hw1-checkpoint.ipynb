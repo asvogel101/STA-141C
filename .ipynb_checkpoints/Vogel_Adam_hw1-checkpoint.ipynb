{
 "cells": [
  {
   "cell_type": "markdown",
   "metadata": {},
   "source": [
    "**HW1 STA 141C**\n",
    "\n",
    "**ADAM VOGEL 916550301**\n",
    "\n",
    "**1/26/2021**"
   ]
  },
  {
   "cell_type": "markdown",
   "metadata": {},
   "source": [
    "**1) Some Linear Algebra Exercises**"
   ]
  },
  {
   "cell_type": "markdown",
   "metadata": {},
   "source": [
    "1a) Show that the product of two upper (lower) triangular matrices is upper (lower) triangular"
   ]
  },
  {
   "cell_type": "markdown",
   "metadata": {},
   "source": [
    "Take two arbitrary square matrices $A \\in \\mathbb{R}^{nxn}$ and $B \\in \\mathbb{R}^{nxn}$ such that they are both upper triangular. Then for entries $a_{ij}$ and $b_{ij}$ of matrices $A$ and $B$, if $i>j$, $a_{ij}=b_{ij}=0$.\n",
    "\n",
    "Next, let $C=AB$, and let the $i,j$ element of $C$ be denoted as $c_{ij}$. Then $c_{ij}=\\sum_{k=1}^{n}a_{ik}b_{kj}$. Then we can split this summation into two seperate summations, so that $c_{ij}=\\sum_{k=1}^{i-1}a_{ik}b_{kj}+\\sum_{k=i}^{n}a_{ik}b_{kj}$. Then the first summation equals $0$, since $a_{ik}=0$ when $i>k$ (by the definition of an upper triangular matrix). We now have $c_{ij}=\\sum_{k=i}^{n}a_{ik}b_{kj}$, such that $k \\geq i$. Then if $i>j$, $k>j$, and $b_{kj}=0$. This shows that for all entries of $c_{ij}$ where $i>j$, $c_{ij}=0$. Therefore, $C=AB$ is an upper triangular matrix. A similar method shows ththat the product of two lower triangular matrices is lower triangular."
   ]
  },
  {
   "cell_type": "markdown",
   "metadata": {},
   "source": [
    "1b) Show that the inverse of an upper (lower) triangular matrix is upper (lower) triangular"
   ]
  },
  {
   "cell_type": "markdown",
   "metadata": {},
   "source": [
    "I received help with this problem from HJC's answer to the stackexchange post found at the following link:\n",
    "https://math.stackexchange.com/questions/4841/inverse-of-an-invertible-triangular-matrix-either-upper-or-lower-is-triangular\n",
    "\n",
    "Take an arbitrary square matrix $A \\in \\mathbb{R}^{nxn}$ such that $A$ is upper triangular. We want to show that it's inverse is upper triangular using induction.\n",
    "\n",
    "Start with a base case. Take a matrix $A \\in \\mathbb{R}^{2x2}$ such that $A$ is upper triangular. Then $A=\\begin{bmatrix}a & b\\\\ 0 & d \\end{bmatrix}$. Also, $A^{-1}=\\frac{1}{ad}\\begin{bmatrix}d & -b \\\\ 0 & a \\end{bmatrix}$. So the result holds for any $2x2$ matrix.\n",
    "\n",
    "Assume that the hypothesis holds for any $nxn$ upper triangular matrix. Take $A \\in \\mathbb{R}^{(n+1)\\times(n+1)}$ such that $A$ is upper triangular. Then $A = \\begin{bmatrix} A_1 & a_2 \\\\ 0 & x \\end{bmatrix}$, where $A_1$ is an upper triangular $n\\times n$ matrix, $a_2 \\in \\mathbb{R}^{n\\times1}$ and $x$ is a scalar. Take a matrix $B$ to be the inverse of $A$, so that $B = \\begin{bmatrix} B_1 & b_2 \\\\ B_3^T & y \\end{bmatrix}$. \n",
    "\n",
    "By the definition of a matrix inverse, $AB=BA=I_{n+1}$. Then it must also be true that $B_1A_1=A_1B_1=I_n$. Therefore, $B_1$ is an upper triangular matrix. Also, $b_3=\\vec{0}$, since $x \\neq 0$ and otherwise we would not end up with the identity matrix. Therefore, $B = \\begin{bmatrix} B_1 & b_2 \\\\ 0 & y \\end{bmatrix}$, and $A^{-1}=B$ is upper triangular. We have shown by induction that the inverse of any upper triangular matrix is upper triangular, and the proof is similar for lower triangular matrices."
   ]
  },
  {
   "cell_type": "markdown",
   "metadata": {},
   "source": [
    "1c) We want to show that the product of two unit upper (lower) triangular matrices is unit upper (lower) triangular. Recall that a unit upper triangular matrix is an upper triangular matrix whos diagonal elements are all equal to $1$. \n",
    "\n",
    "Take two arbitrary square matrices $A \\in \\mathbb{R}^{nxn}$ and $B \\in \\mathbb{R}^{nxn}$ such that they are both unit upper triangular. From part (1a), we know that $C=AB$ is an upper triangular matrix, and the elements of $C$ are given by $c_{ij}=\\sum_{k=i}^{n}a_{ik}b_{kj}$. Then the diagonal entries of $C$ are given by $c_{ii}=\\sum_{k=1}^{i-1}0 \\cdot b_{ki} + a_{ii}b_{ii}+\\sum_{k=i+1}^n a_{ik} \\cdot 0 = a_{ii}b_{ii} = 1 \\cdot 1 = 1$. \n",
    "\n",
    "So $AB=C$ is an upper triangular matrix with its diagonal elements equal to one. Therefore $A=BC$ is a unit upper triangular matrix. A similar proof follows for unit lower triangular matrices."
   ]
  },
  {
   "cell_type": "markdown",
   "metadata": {},
   "source": [
    "1d) We want to show that the inverse of a unit upper (lower) triangular matrix is unit upper (lower) triangular.\n",
    "\n",
    "Let $A$ be a unit upper triangular matrix. For any upper triangular matrix, it's determinant can be found by taking the product of it's diagonal elements. Then $det(A)=1$, since $A$ is unit upper triangular, and by this fact $A$ is invertible. From (1b), we know that $A^{-1}$ is also an upper triangular matrix. \n",
    "\n",
    "Next, we want to show that the diagonal entries of $A^{-1}$ are all equal to $1$. Let $B=A^{-1}$. Then $AB=I$. Then $AB$ must have diagonal elements equal to one (it is the identity matrix) so that $1=(AB)_{ii}=a_{ii}b_{ii}$. By hypothesis, $A$ is unit upper triangular and $a_{ii} = 1$ for all $i$. Then $b_{ii}=1$ for all $i$. Therefore all the diagonal elements of $B$ are 1, and by part (1b), $B$ is upper triangular. We have shown that for any unit upper triangular matrix $A$, it's inverse $A^{-1}$ is also unit upper triangular. "
   ]
  },
  {
   "cell_type": "markdown",
   "metadata": {},
   "source": [
    "1e) We want to show that an orthogonal upper (lower) triangular matrix is diagonal.\n",
    "\n",
    "Take an orthogonal upper triangular matrix $A$. Since $A$ is an orthogonal matrix, $A^TA=I$, and it is also true that $A^T=A^{-1}$. We have already shown that the inverse of an upper triangular matrix is upper triangular. Then $A^T=A^{-1}$ must be both upper triangular (since it is the inverse of an upper triangular matrix) and lower triangular (since it is the transpose of an upper triangular matrix). Therefore, $A^T$ is a diagonal matrix. Since the transpose of a diagonal matrix is also diagonal, $(A^T)^T=A$ must be a diagonal matrix as well. We have shown that an orthogonal upper triangular matrix is diagonal, and the proof is similar for a lower triangular matrix."
   ]
  },
  {
   "cell_type": "markdown",
   "metadata": {},
   "source": [
    "2a) Show the Sherman-Morrison formula"
   ]
  },
  {
   "cell_type": "markdown",
   "metadata": {},
   "source": [
    "For any matrix $A$, its inverse $B$ is defined such that $AB=BA=I$, where $I$ is the identity matrix."
   ]
  },
  {
   "cell_type": "markdown",
   "metadata": {},
   "source": [
    "Take an arbitrary nonsingular square matrix $A \\in \\mathbb{R}^{nxn}$ and a vector $u \\in \\mathbb{R}^{n}$. In order to verify that the Sherman-Morrison formula supplies the inverse of $(A+uu^{T})$, we want to show that $(A+uu^T)(A^{-1}-\\frac{1}{1+u^{T}A^{-1}u}A^{-1}uu^TA^{-1})=(A^{-1}-\\frac{1}{1+u^{T}A^{-1}u}A^{-1}uu^TA^{-1})(A+uu^T)=I$. "
   ]
  },
  {
   "cell_type": "markdown",
   "metadata": {},
   "source": [
    "First, show $(A+uu^T)(A^{-1}-\\frac{1}{1+u^{T}A^{-1}u}A^{-1}uu^TA^{-1})=I$\n",
    "\n",
    "$(A+uu^T)(A^{-1}-\\frac{1}{1+u^{T}A^{-1}u}A^{-1}uu^TA^{-1})=AA^{-1}+uu^TA^{-1}-\\frac{AA^{-1}uu^TA^{-1}}{1+u^TA^{-1}u}-\\frac{uu^TA^{-1}uu^TA^{-1}}{1+u^TA^{-1}u}=I+uu^TA^{-1}-\\frac{uu^TA^{-1}+uu^TA^{-1}uu^TA^{-1}}{1+u^TA^{-1}u}$\n",
    "\n",
    "$=I+uu^TA^{-1}-\\frac{u(1+u^TA^{-1}u)(u^TA^{-1})}{1+u^TA^{-1}u}=I$"
   ]
  },
  {
   "cell_type": "markdown",
   "metadata": {},
   "source": [
    "Next, show that $(A^{-1}-\\frac{1}{1+u^{T}A^{-1}u}A^{-1}uu^TA^{-1})(A+uu^T)=I$\n",
    "\n",
    "$(A^{-1}-\\frac{1}{1+u^{T}A^{-1}u}A^{-1}uu^TA^{-1})(A+uu^T)=(A^{-1}A+A^{-1}uu^T-\\frac{A^{-1}uu^TA^{-1}A}{1+u^TA^{-1}u}-\\frac{A^{-1}uu^TA^{-1}uu^T}{1+u^TA^{-1}u})$\n",
    "\n",
    "$=I+A^{-1}uu^T-\\frac{A^{-1}uu^T+A^{-1}uu^TA^{-1}uu^T}{1+u^TA^{-1}u}=I+A^{-1}uu^T-\\frac{A^{-1}u(1+u^TA^{-1}u)(u^T)}{1+u^TA^{-1}u}=I$\n",
    "\n",
    "Therefore $(A+uu^T)$ has an inverse given by the Sherman-Morrison formula."
   ]
  },
  {
   "cell_type": "markdown",
   "metadata": {},
   "source": [
    "2b) Show the Woodbury formula"
   ]
  },
  {
   "cell_type": "markdown",
   "metadata": {},
   "source": [
    "Take $A\\in \\mathbb{R}^{nxn}$ to be a nonsingular matrix, and take $U,V \\in \\mathbb{R}^{nxm}$, and take $I_m \\in \\mathbb{R}^m$. \n",
    "\n",
    "By definition, $A^{-1}=(A+UV^T)^{-1}(A+UV^T)(A^{-1})=(A+UV^T)^{-1}(I+UV^TA^{-1})=(A+UV^T)^{-1}+(A+UV^T)^{-1}(UV^TA^{-1})$. \n",
    "\n",
    "Then $(A+UV^T)^{-1}=A^{-1}-(A+UV^T)^{-1}(UV^TA^{-1})=A^{-1}-A^{-1}U(I_m+V^TA^{-1}U)^{-1}V^TA^{-1}$"
   ]
  },
  {
   "cell_type": "markdown",
   "metadata": {},
   "source": [
    "2c) Show the binomial inversion theorem"
   ]
  },
  {
   "cell_type": "markdown",
   "metadata": {},
   "source": [
    "We want to show that $(A+UCV)(A^{-1}-A^{-1}U(I_m+V^{T}A^{-1}U)^{-1}V^{T}A^{-1})=I$. Take $A \\in \\mathbb{R}^{nxn}$ and $B \\in \\mathbb{R}^{mxm}$ to be nonsingular matrices. Take $U, V \\in \\mathbb{R}^{nxm}$.\n",
    "\n",
    "$(A+UCV)(A^{-1}-A^{-1}U(I_m+V^{T}A^{-1}U)^{-1}V^{T}A^{-1})=(I-U(C^{-1}+VA^{-1}U)^{-1}VA^{-1})+(UCVA^{-1}-UCVA^{-1}U(C^{-1}+VA^{-1}U)^{-1}VA^{-1}=I+UCVA^{-1}-(U+UCVA^{-1}U)(C^{-1}+VA^{-1}U)^{-1}VA^{-1}=I+UCVA^{-1}-UC(C^{-1}+VA^{-1}U)(C^{-1}+VA^{-1}U)^{-1}VA^{-1}=I+UCVA^{-1}-UCVA^{-1}=I$\n",
    "\n",
    "Then $(A+UCV)^{-1}=(A^{-1}-A^{-1}U(I_m+V^{T}A^{-1}U)^{-1}V^{T}A^{-1})$\n"
   ]
  },
  {
   "cell_type": "markdown",
   "metadata": {},
   "source": [
    "3) Show the matrix determinant lemma\n",
    "\n",
    "Take $A\\in\\mathbb{R}^{n\\times n}$ and take $U,V \\in \\mathbb{R}^{n\\times m}$\n",
    "\n",
    "First, $det(A+UV^{T})=det(A(I+A^{-1}UV^{T})=det(A)det(I+A^{-1}UV^{T})$\n",
    "\n",
    "So we want to show that $det(I+A^{-1}UV^{T})=det(1+V^{T}A^{-1}U)$\n",
    "\n",
    "Now, take the product of three matrices such that\n",
    "\n",
    "$\\begin{bmatrix}I & 0 \\\\ V^{T} & 1 \\end{bmatrix} \\begin{bmatrix} I+A^{-1}UV^{T} & A^{-1}U \\\\ 0 & 1 \\end{bmatrix}\n",
    "\\begin{bmatrix} I & 0 \\\\ -V^{T} & 1 \\end{bmatrix} = \\begin{bmatrix} I & A^{-1}U \\\\ 0 & 1+V^TA^{-1}U \\end{bmatrix}$\n",
    "\n",
    "The determinant of the left hand sign can be found by taking the determinant of the three matrices and taking their product. All three matrices are upper triangular, so their determinants are taken as the product of their diagonal elements. Then $det(\\begin{bmatrix}I & 0 \\\\ V^{T} & 1 \\end{bmatrix} \\begin{bmatrix} I+A^{-1}UV^{T} & A^{-1}U \\\\ 0 & 1 \\end{bmatrix}\n",
    "\\begin{bmatrix} I & 0 \\\\ -V^{T} & 1 \\end{bmatrix})=1 \\cdot det(I+A^{-1}UV^{T}) \\cdot 1$\n",
    "\n",
    "The determinant of the right hand side is given by $det(\\begin{bmatrix} I & A^{-1}U \\\\ 0 & 1+V^TA^{-1}U \\end{bmatrix})=det(1+V^TA^{-1}U)$\n",
    "\n",
    "Therefore $det(1+V^TA^{-1}U)=det(I+A^{-1}UV^{T})$, so that $det(A+UV^{T})=det(A)det(I+A^{-1}UV^{T})=det(A)det(1+V^TA^{-1}U)$"
   ]
  },
  {
   "cell_type": "markdown",
   "metadata": {},
   "source": [
    "**2) Programming Exercises**"
   ]
  },
  {
   "cell_type": "markdown",
   "metadata": {},
   "source": [
    "4. We notice that $(a + b) + c = 0.99999999$, while the other two equations equal $1$. This is due to the fact that floats are stored in double precision floating point arithmetic. This limits precision when performing operations between numbers, as some information is lost while performing mathematical operations on approximations.\n",
    "\n",
    "Code Source for Internal Representation: Piazza Post #37"
   ]
  },
  {
   "cell_type": "code",
   "execution_count": 629,
   "metadata": {},
   "outputs": [
    {
     "name": "stdout",
     "output_type": "stream",
     "text": [
      "(a + b) + c = 0.9999999999999999\n",
      "a + (b + c) = 1.0\n",
      "(a + c) + b =  1.0\n",
      "Internal representation of 0.7 is 00111111001100110011001100110011\n",
      "Internal representation of 0.2 is 00111110010011001100110011001101\n",
      "Internal representation of 0.1 is 00111101110011001100110011001101\n"
     ]
    }
   ],
   "source": [
    "import numpy as np\n",
    "import pandas as pd\n",
    "import struct\n",
    "import matplotlib.pyplot as plt\n",
    "# Initialize a, b, and c\n",
    "a=0.7\n",
    "b=0.2\n",
    "c=0.1\n",
    "\n",
    "# Test (a + b) + c\n",
    "ans1=(a+b)+c\n",
    "print(\"(a + b) + c =\", ans1)\n",
    "\n",
    "# Test a + (b + c)\n",
    "ans2=a+(b+c)\n",
    "print(\"a + (b + c) =\", ans2)\n",
    "\n",
    "# Test (a + c) + b\n",
    "ans3=(a+c)+b\n",
    "print(\"(a + c) + b = \", ans3)\n",
    "\n",
    "# Find the internal representation of these numbers using 'struct' package (source: Piazza Post #37)\n",
    "def float_rep(num):\n",
    "    return ''.join(\"{:08b}\".format(elem) \n",
    "                   for elem \n",
    "                   in struct.pack('!f', num))\n",
    "    \n",
    "# Print internal representation of each number\n",
    "print(\"Internal representation of 0.7 is\", float_rep(a))\n",
    "\n",
    "print(\"Internal representation of 0.2 is\", float_rep(b))\n",
    "\n",
    "print(\"Internal representation of 0.1 is\", float_rep(c))"
   ]
  },
  {
   "cell_type": "markdown",
   "metadata": {},
   "source": [
    "5. We obtain 0 for each of the three sums. This is due to integer overflow. The sums which we calculate exceed the range of real numbers which we can store using numpy"
   ]
  },
  {
   "cell_type": "code",
   "execution_count": 630,
   "metadata": {},
   "outputs": [],
   "source": [
    "# Initialize the vector as a list\n",
    "\n",
    "v = list(range(971,1024))\n",
    "v.insert(0, 969)\n",
    "\n",
    "# Turn the list into a numpy array object\n",
    "v = np.array(v)"
   ]
  },
  {
   "cell_type": "code",
   "execution_count": 631,
   "metadata": {},
   "outputs": [
    {
     "name": "stdout",
     "output_type": "stream",
     "text": [
      "0\n"
     ]
    }
   ],
   "source": [
    "# Calculate the first sum\n",
    "\n",
    "ans1 = sum(np.power(2, v))\n",
    "\n",
    "print(ans1)"
   ]
  },
  {
   "cell_type": "code",
   "execution_count": 632,
   "metadata": {},
   "outputs": [
    {
     "name": "stdout",
     "output_type": "stream",
     "text": [
      "0\n"
     ]
    }
   ],
   "source": [
    "# Calculate the second sum by removing the first element of the vector v \n",
    "\n",
    "v2 = np.delete(v, 0)\n",
    "ans2 = sum(np.power(2,v2))\n",
    "print(ans2)"
   ]
  },
  {
   "cell_type": "code",
   "execution_count": 633,
   "metadata": {},
   "outputs": [
    {
     "name": "stdout",
     "output_type": "stream",
     "text": [
      "0\n"
     ]
    }
   ],
   "source": [
    "# Calculate the third sum\n",
    "\n",
    "ans3 = np.power(2, 969) + sum(np.power(2,v2))\n",
    "print(ans3)"
   ]
  },
  {
   "cell_type": "markdown",
   "metadata": {},
   "source": [
    "6. The plot of $y = (x-1)^7$ is much smoother than the plot of the full polynomial expansion. This could be due to catastrophic cancellation, as the fully expanded equation involves more operations, and thus more approximatations than the compact version of the equation. This causes an increase of relative error since we are taking multiple approximations."
   ]
  },
  {
   "cell_type": "code",
   "execution_count": 634,
   "metadata": {},
   "outputs": [],
   "source": [
    "# Initialize the vector of x values\n",
    "\n",
    "x = np.arange(0.988,1.012,.001)\n",
    "\n",
    "# Calculate y\n",
    "\n",
    "y1 = (np.power(x, 7) - 7*np.power(x, 6) + 21*np.power(x,5) +\n",
    "    - 35*np.power(x,4) + 35*np.power(x,3) - 21*np.power(x,2) +\n",
    "     +7*x - 1)"
   ]
  },
  {
   "cell_type": "code",
   "execution_count": 635,
   "metadata": {},
   "outputs": [
    {
     "data": {
      "text/plain": [
       "[<matplotlib.lines.Line2D at 0x1c37d2ec460>]"
      ]
     },
     "execution_count": 635,
     "metadata": {},
     "output_type": "execute_result"
    },
    {
     "data": {
      "image/png": "[encoded data removed]",
      "text/plain": [
       "<Figure size 432x288 with 1 Axes>"
      ]
     },
     "metadata": {
      "needs_background": "light"
     },
     "output_type": "display_data"
    }
   ],
   "source": [
    "# Plot x,y\n",
    "\n",
    "plt.plot(x,y1)"
   ]
  },
  {
   "cell_type": "code",
   "execution_count": 636,
   "metadata": {},
   "outputs": [],
   "source": [
    "# Calculate y = (x-1)^7\n",
    "\n",
    "y2 = np.power(x-1, 7)"
   ]
  },
  {
   "cell_type": "code",
   "execution_count": 637,
   "metadata": {},
   "outputs": [
    {
     "data": {
      "text/plain": [
       "[<matplotlib.lines.Line2D at 0x1c37d3b08b0>]"
      ]
     },
     "execution_count": 637,
     "metadata": {},
     "output_type": "execute_result"
    },
    {
     "data": {
      "image/png": "[encoded data removed]",
      "text/plain": [
       "<Figure size 432x288 with 1 Axes>"
      ]
     },
     "metadata": {
      "needs_background": "light"
     },
     "output_type": "display_data"
    }
   ],
   "source": [
    "# Plot x, new y\n",
    "\n",
    "plt.plot(x, y2)"
   ]
  },
  {
   "cell_type": "markdown",
   "metadata": {},
   "source": [
    "7."
   ]
  },
  {
   "cell_type": "code",
   "execution_count": 638,
   "metadata": {},
   "outputs": [
    {
     "name": "stdout",
     "output_type": "stream",
     "text": [
      "U =  [[ 0.92857143 -0.14285714 -0.21428571 -0.21428571 -0.14285714 -0.07142857]\n",
      " [-0.14285714  0.71428571 -0.42857143 -0.42857143 -0.28571429 -0.14285714]\n",
      " [-0.21428571 -0.42857143  0.35714286 -0.64285714 -0.42857143 -0.21428571]\n",
      " [-0.21428571 -0.42857143 -0.64285714  0.35714286 -0.42857143 -0.21428571]\n",
      " [-0.14285714 -0.28571429 -0.42857143 -0.42857143  0.71428571 -0.14285714]\n",
      " [-0.07142857 -0.14285714 -0.21428571 -0.21428571 -0.14285714  0.92857143]]\n"
     ]
    }
   ],
   "source": [
    "## PART A ##\n",
    "\n",
    "# Initialize the vector u\n",
    "\n",
    "u = np.array([[1],\n",
    "              [2],\n",
    "              [3],\n",
    "              [3],\n",
    "              [2],\n",
    "              [1]])\n",
    "\n",
    "# Initialize a 6 x 6 identity matrix\n",
    "\n",
    "I = np.identity(6)\n",
    "\n",
    "# Calculate U by first calculating two terms\n",
    "\n",
    "term1 = 2 / np.matmul(np.transpose(u), u)\n",
    "\n",
    "term2 = np.matmul(u, np.transpose(u))\n",
    "\n",
    "U = I - (term1 * term2)\n",
    "\n",
    "print(\"U = \", U)"
   ]
  },
  {
   "cell_type": "code",
   "execution_count": 639,
   "metadata": {},
   "outputs": [
    {
     "name": "stdout",
     "output_type": "stream",
     "text": [
      "The largest off-diagonal element of C is  -1.451503316633655e-17\n",
      "The smallest off-diagonal element of C is  -8.383316716557304e-17\n"
     ]
    }
   ],
   "source": [
    "## PART B ##\n",
    "\n",
    "# Calculate C using np.matmul\n",
    "\n",
    "C = np.matmul(U,U)\n",
    "\n",
    "# Find the largest and smallest off-diagonal elements of C \n",
    "# Got help with code from stackoverflow: https://stackoverflow.com/questions/29394377/minimum-of-numpy-array-ignoring-diagonal\n",
    "\n",
    "# Create a mask \n",
    "\n",
    "mask = np.ones(C.shape, dtype=bool)\n",
    "\n",
    "# Use the mask so that diagonal elements of C are set to boolean \"false\" value. Index over \"true\" values \n",
    "# using np.max() in order to find largest off-diagonal element\n",
    "\n",
    "np.fill_diagonal(mask, 0)\n",
    "max_value = np.max(C[mask])\n",
    "print(\"The largest off-diagonal element of C is \", max_value)\n",
    "\n",
    "# Do the same, but this time for smallest off-diagonal element\n",
    "\n",
    "min_value=np.min(C[mask])\n",
    "print(\"The smallest off-diagonal element of C is \", min_value)"
   ]
  },
  {
   "cell_type": "code",
   "execution_count": 640,
   "metadata": {},
   "outputs": [
    {
     "name": "stdout",
     "output_type": "stream",
     "text": [
      "The largest diagonal element of C is  1.0\n",
      "The largest diagonal element of C is  0.9999999999999999\n"
     ]
    }
   ],
   "source": [
    "## PART C ##\n",
    "\n",
    "# Use np.max along with np.diagonal to find largest diagonal element of C\n",
    "\n",
    "max_value = np.max(np.diagonal(C))\n",
    "\n",
    "print(\"The largest diagonal element of C is \", max_value)\n",
    "\n",
    "# Use np.min along with np.diagonal to find smallest diagonal element of C\n",
    "\n",
    "min_value = np.min(np.diagonal(C))\n",
    "\n",
    "print(\"The largest diagonal element of C is \", min_value)"
   ]
  },
  {
   "cell_type": "code",
   "execution_count": 641,
   "metadata": {},
   "outputs": [
    {
     "name": "stdout",
     "output_type": "stream",
     "text": [
      "Uu =  [[-1.]\n",
      " [-2.]\n",
      " [-3.]\n",
      " [-3.]\n",
      " [-2.]\n",
      " [-1.]]\n",
      "Uu =  [[-1.]\n",
      " [-2.]\n",
      " [-3.]\n",
      " [-3.]\n",
      " [-2.]\n",
      " [-1.]]\n"
     ]
    }
   ],
   "source": [
    "## PART D ##\n",
    "\n",
    "# Use np.matmul for matrix-vector multiplication\n",
    "\n",
    "Uu1 = np.matmul(U,u)\n",
    "print(\"Uu = \", Uu1)\n",
    "\n",
    "# Alternatively can use np.dot to arrive at same result\n",
    "\n",
    "Uu2 = np.dot(U,u)\n",
    "\n",
    "print(\"Uu = \", Uu2)"
   ]
  },
  {
   "cell_type": "code",
   "execution_count": 642,
   "metadata": {},
   "outputs": [
    {
     "name": "stdout",
     "output_type": "stream",
     "text": [
      "2.2857142857142856\n"
     ]
    }
   ],
   "source": [
    "## PART E ##\n",
    "\n",
    "#largest row sum  \n",
    "\n",
    "inf_norm = np.linalg.norm(U, ord=np.inf)\n",
    "\n",
    "print(inf_norm)"
   ]
  },
  {
   "cell_type": "code",
   "execution_count": 643,
   "metadata": {},
   "outputs": [
    {
     "name": "stdout",
     "output_type": "stream",
     "text": [
      "The third row of U is [-0.21428571 -0.42857143 -0.64285714  0.35714286 -0.42857143 -0.21428571]\n"
     ]
    }
   ],
   "source": [
    "## PART F ##\n",
    "\n",
    "# Use brackets to index numpy array object\n",
    "\n",
    "thirdrow = U[3]\n",
    "print(\"The third row of U is\", thirdrow)"
   ]
  },
  {
   "cell_type": "code",
   "execution_count": 644,
   "metadata": {},
   "outputs": [
    {
     "name": "stdout",
     "output_type": "stream",
     "text": [
      "The elements of U in the second column below the diagonal are  [-0.42857143 -0.42857143 -0.28571429 -0.14285714]\n"
     ]
    }
   ],
   "source": [
    "## PART G ##\n",
    "\n",
    "# Use numpy array slicing to grab elements below diagonal in second column\n",
    "\n",
    "secondcolumn_belowdiag = U[1][2:6]\n",
    "\n",
    "print(\"The elements of U in the second column below the diagonal are \", secondcolumn_belowdiag)"
   ]
  },
  {
   "cell_type": "code",
   "execution_count": 645,
   "metadata": {},
   "outputs": [
    {
     "name": "stdout",
     "output_type": "stream",
     "text": [
      "P =  [[ 9.28571429e-01 -1.42857143e-01 -2.14285714e-01 -3.54025199e-17\n",
      "  -2.88884563e-17 -1.44442281e-17]\n",
      " [-1.42857143e-01  7.14285714e-01 -4.28571429e-01 -1.52938886e-17\n",
      "  -2.26576127e-18 -1.13288064e-18]\n",
      " [-2.14285714e-01 -4.28571429e-01  3.57142857e-01 -4.07837029e-17\n",
      "  -4.30494642e-17 -2.15247321e-17]\n",
      " [-3.54025199e-17 -1.52938886e-17 -4.07837029e-17  6.42857143e-01\n",
      "   4.28571429e-01  2.14285714e-01]\n",
      " [-2.88884563e-17 -2.26576127e-18 -4.30494642e-17  4.28571429e-01\n",
      "   2.85714286e-01  1.42857143e-01]\n",
      " [-1.44442281e-17 -1.13288064e-18 -2.15247321e-17  2.14285714e-01\n",
      "   1.42857143e-01  7.14285714e-02]]\n"
     ]
    }
   ],
   "source": [
    "## PART H ##\n",
    "\n",
    "# Let A be the first three columns of U \n",
    "\n",
    "A = U[:,0:3]\n",
    "\n",
    "# Compute P = AA'\n",
    "\n",
    "P = np.matmul(A, np.transpose(A))\n",
    "\n",
    "print(\"P = \", P)"
   ]
  },
  {
   "cell_type": "markdown",
   "metadata": {},
   "source": [
    "Since the infinity norm of $PP-P$ is $0$, $PP=P$, so that $P$ is idempotent. The small result very near zero is likely due to relative error induced by floating point arithmetic."
   ]
  },
  {
   "cell_type": "code",
   "execution_count": 646,
   "metadata": {},
   "outputs": [
    {
     "name": "stdout",
     "output_type": "stream",
     "text": [
      "The infinity norm of PP-P is  2.43852557194454e-16\n"
     ]
    }
   ],
   "source": [
    "## PART I ##\n",
    "\n",
    "# Show that P is idempotent by calculating the infinity norm of PP-P\n",
    "\n",
    "inf_norm=np.linalg.norm((np.matmul(P,P)-P), ord=np.inf)\n",
    "print(\"The infinity norm of PP-P is \", inf_norm)"
   ]
  },
  {
   "cell_type": "code",
   "execution_count": 647,
   "metadata": {},
   "outputs": [
    {
     "name": "stdout",
     "output_type": "stream",
     "text": [
      "Q =  [[ 7.14285714e-02  1.42857143e-01  2.14285714e-01 -2.38967009e-17\n",
      "  -7.25751658e-18 -8.21338462e-18]\n",
      " [ 1.42857143e-01  2.85714286e-01  4.28571429e-01 -4.77934019e-17\n",
      "  -1.45150332e-17 -1.64267692e-17]\n",
      " [ 2.14285714e-01  4.28571429e-01  6.42857143e-01 -2.83220159e-17\n",
      "  -2.00378263e-17 -2.46401539e-17]\n",
      " [-2.38967009e-17 -4.77934019e-17 -2.83220159e-17  3.57142857e-01\n",
      "  -4.28571429e-01 -2.14285714e-01]\n",
      " [-7.25751658e-18 -1.45150332e-17 -2.00378263e-17 -4.28571429e-01\n",
      "   7.14285714e-01 -1.42857143e-01]\n",
      " [-8.21338462e-18 -1.64267692e-17 -2.46401539e-17 -2.14285714e-01\n",
      "  -1.42857143e-01  9.28571429e-01]]\n"
     ]
    }
   ],
   "source": [
    "## PART J ## \n",
    "\n",
    "# Let B be the last three columns of U\n",
    "\n",
    "B = U[:,3:6]\n",
    "\n",
    "# Compute Q=BB'\n",
    "\n",
    "Q = np.matmul(B, np.transpose(B))\n",
    "\n",
    "print(\"Q = \", Q)"
   ]
  },
  {
   "cell_type": "markdown",
   "metadata": {},
   "source": [
    "Since the infinity norm of $QQ-Q$ is $0$, $QQ=Q$, so that $Q$ is idempotent. The small result very near zero is likely due to relative error induced by floating point arithmetic."
   ]
  },
  {
   "cell_type": "code",
   "execution_count": 655,
   "metadata": {},
   "outputs": [
    {
     "name": "stdout",
     "output_type": "stream",
     "text": [
      "The infinity norm of QQ-Q is  2.2069930916815132e-16\n"
     ]
    }
   ],
   "source": [
    "## PART K ##\n",
    "\n",
    "# Show that Q is idempotent by calculating hte infinity norm of QQ-Q\n",
    "\n",
    "inf_norm=np.linalg.norm((np.matmul(Q,Q)-Q), ord=np.inf)\n",
    "print(\"The infinity norm of QQ-Q is \", inf_norm)"
   ]
  },
  {
   "cell_type": "code",
   "execution_count": 656,
   "metadata": {},
   "outputs": [
    {
     "name": "stdout",
     "output_type": "stream",
     "text": [
      "L =  [[ 1.00000000e+00 -2.77555756e-17 -5.55111512e-17 -5.92992209e-17\n",
      "  -3.61459728e-17 -2.26576127e-17]\n",
      " [-2.77555756e-17  1.00000000e+00 -5.55111512e-17 -6.30872905e-17\n",
      "  -1.67807944e-17 -1.75596499e-17]\n",
      " [-5.55111512e-17 -5.55111512e-17  1.00000000e+00 -6.91057189e-17\n",
      "  -6.30872905e-17 -4.61648860e-17]\n",
      " [-5.92992209e-17 -6.30872905e-17 -6.91057189e-17  1.00000000e+00\n",
      "  -1.11022302e-16 -5.55111512e-17]\n",
      " [-3.61459728e-17 -1.67807944e-17 -6.30872905e-17 -1.11022302e-16\n",
      "   1.00000000e+00  0.00000000e+00]\n",
      " [-2.26576127e-17 -1.75596499e-17 -4.61648860e-17 -5.55111512e-17\n",
      "   0.00000000e+00  1.00000000e+00]]\n"
     ]
    }
   ],
   "source": [
    "## PART L ##\n",
    "\n",
    "# Compute P + Q\n",
    "\n",
    "L = P + Q\n",
    "\n",
    "print(\"L = \", L)"
   ]
  },
  {
   "cell_type": "markdown",
   "metadata": {},
   "source": [
    "8. Using numpy, we calculate the correlation between number of failures and temperature at launch to be -0.561. This implies that colder temperatures are associated with more O-ring failures at launch."
   ]
  },
  {
   "cell_type": "code",
   "execution_count": 657,
   "metadata": {},
   "outputs": [
    {
     "name": "stdout",
     "output_type": "stream",
     "text": [
      "The correlation between number of failures and temperature at launch is  -0.5613284258418355\n"
     ]
    }
   ],
   "source": [
    "# Read in O-ring data\n",
    "\n",
    "oringdata = pd.read_csv('oringp.dat',\n",
    "            header=None, sep='\\s+|,', engine='python')\n",
    "\n",
    "\n",
    "# Drop last row of missing data \n",
    "\n",
    "oringdata.drop(oringdata.tail(1).index,inplace=True)\n",
    "\n",
    "# Set up parameters needed to calculate correlation\n",
    "\n",
    "sum_x = sum(oringdata[3])\n",
    "sum_y = sum(oringdata[4])\n",
    "mean_x = sum_x/len(oringdata)\n",
    "mean_y = sum_y/len(oringdata)\n",
    "\n",
    "# Calculate numerator and denominator of Pearson correlation coefficient\n",
    "\n",
    "numerator_term_x = [i-mean_x \n",
    "                    for i \n",
    "                    in oringdata[3]]\n",
    "numerator_term_y = [i-mean_y \n",
    "                    for i \n",
    "                    in oringdata[4]]\n",
    "\n",
    "# The following line supplies the covariance in the numerator\n",
    "\n",
    "numerator = sum([numerator_term_x[i]*numerator_term_y[i] \n",
    "                 for i \n",
    "                 in range(len(sub_x))])\n",
    "\n",
    "# Calculate the two standard deviations \n",
    "std_deviation_x = sum([numerator_term_x[i]**2.0 \n",
    "                       for i \n",
    "                       in range(len(numerator_term_x))])\n",
    "\n",
    "std_deviation_y = sum([numerator_term_y[i]**2.0 \n",
    "                       for i \n",
    "                       in range(len(numerator_term_y))])\n",
    "\n",
    "# Take square root of denominator by multiplying the standard deviations, then take the square root\n",
    "\n",
    "denominator = (std_deviation_x*std_deviation_y)**0.5 \n",
    "\n",
    "corr = numerator/denominator\n",
    "\n",
    "print(\"The correlation between number of failures and temperature at launch is \", corr)"
   ]
  },
  {
   "cell_type": "markdown",
   "metadata": {},
   "source": [
    "9. Write a function named solve_power(A, k, b) to solve the linear equation $A^kx=b$, where $A \\in \\mathbb{R}^{nxn}$ is nonsingular and $b \\in \\mathbb{R}^n$. \n",
    "\n",
    "We show that the function works by running it on a random non-singular square matrix and vector b, for k=3. "
   ]
  },
  {
   "cell_type": "code",
   "execution_count": 658,
   "metadata": {},
   "outputs": [
    {
     "name": "stdout",
     "output_type": "stream",
     "text": [
      "We begin with the vector b =  [0.80269961 0.60647685 0.82878093 0.10758021 0.48314091] \n",
      " and the matrix A =  [[0.16946435 0.49524954 0.81910751 0.30837701 0.96841894]\n",
      " [0.75732495 0.82740839 0.15109979 0.54172997 0.34732352]\n",
      " [0.02698325 0.24146935 0.0826825  0.18471633 0.10106056]\n",
      " [0.19341539 0.01782509 0.79563201 0.81387346 0.95753516]\n",
      " [0.63665255 0.21456565 0.45081716 0.58172557 0.27777359]]\n",
      "The function solve_power() returns the vector x =  [ 58.25672242 -60.90499924 -97.62821742  -5.41290681  90.97586669]\n",
      "We verify the result by showing that A^kx = b =  [0.80269961 0.60647685 0.82878093 0.10758021 0.48314091]\n"
     ]
    }
   ],
   "source": [
    "# Define a function solve_power()\n",
    "\n",
    "def solve_power(A, k , b):\n",
    "    \n",
    "    # Raise matrix A to k-th power\n",
    "    Ak = np.linalg.matrix_power(A, k)\n",
    "    # Solve for x using numpy \n",
    "    x = np.linalg.solve(Ak, b)\n",
    "    return x\n",
    "\n",
    "# Generate a random non-singular (full-rank) nxn square matrix to test the function\n",
    "# Code for generating non-singular matrix based off of Trevor Galivan's answer to \n",
    "# the stack overflow post \"Generating linearly independent columns for a matrix\"\n",
    "# https://stackoverflow.com/questions/61905733/generating-linearly-independent-columns-for-a-matrix\n",
    "\n",
    "n = 5\n",
    "M = np.random.rand(n,n)\n",
    "r = np.linalg.matrix_rank(M)\n",
    "\n",
    "while r < n:\n",
    "    M = np.random.rand(n,n)\n",
    "    r = np.linalg.matrix_rank(M) \n",
    "    \n",
    "# Generate a random vector for b\n",
    "\n",
    "b = np.random.rand(n).T\n",
    "\n",
    "# Test the function for k = 3\n",
    "\n",
    "k = 3\n",
    "x = solve_power(M, k, b)\n",
    "\n",
    "# Check that A^kx = b\n",
    "\n",
    "verify = np.matmul(np.linalg.matrix_power(M, k), x)\n",
    "\n",
    "print(\"We begin with the vector b = \", b, '\\n', 'and the matrix A = ', M)\n",
    "print(\"The function solve_power() returns the vector x = \", x)\n",
    "print(\"We verify the result by showing that A^kx = b = \", b)"
   ]
  },
  {
   "cell_type": "markdown",
   "metadata": {},
   "source": [
    "10. We want to explain why $y \\stackrel{}{\\sim}N(\\mu, \\sigma_1^2ZZ' + \\sigma_0^2I_n)$. \n",
    "\n",
    "First, take the expectation of $y$. $E[y]=E[x_i^{'}\\beta]+E[z_i^{'}\\gamma]+E[\\epsilon_i]$\n",
    "\n",
    "Since $E[z_i^{'}\\gamma]=E[\\epsilon_i]=0$, we are left with $E[y]=E[x_i^{'}\\beta]=\\mu$\n",
    "\n",
    "Next, take we find the variance of $y$. We can split variance into three terms since the three terms are all independent. \n",
    "\n",
    "Now, take $Var[y]=Var[x_i^{'}\\beta]+Var[z_i^{'}\\gamma]+Var[\\epsilon_i]$. \n",
    "\n",
    "Since $x_i^{'}\\beta$ is a constant term, it's variance is zero. We are left with\n",
    "\n",
    "$Var[y]=Var[z_i^{'}\\gamma]+Var[\\epsilon_i]$\n",
    "\n",
    "Finally, $Z$ is fixed, $\\gamma$ is a random vector with variance $\\sigma_1^2I_q$, and $\\epsilon$ has variance $\\sigma_0^2$. So we are left with\n",
    "\n",
    "$Var[y]=\\sigma_1^2ZZ^{'}+\\sigma_0^{2}I_n$\n",
    "\n",
    "Then $y \\stackrel{}{\\sim}N(\\mu, \\sigma_1^2ZZ' + \\sigma_0^2I_n)$. "
   ]
  },
  {
   "cell_type": "markdown",
   "metadata": {},
   "source": [
    "\n",
    "Now, we wish to show the log-density function of $y$. Begin with the joint probability density function for $y$. \n",
    "\n",
    "From STA 131, we know that the multivariate normal distribution is given by treating $y$ as a transformed random variable and utilizng the determinant of the Jacobian. Then we are left with:\n",
    "\n",
    "$f(y)=2\\pi^{-n/2}det(\\sigma_1^2ZZ' + \\sigma_0^2I_n)^{-1/2}exp\\{\\frac{-1}{2}(y-\\mu)^{'}(\\sigma_1^2ZZ' + \\sigma_0^2I_n)^{-1}(y-\\mu)\\}$\n",
    "\n",
    "Then taking the log:\n",
    "\n",
    "$log(f(y))=-\\frac{n}{2}log(2\\pi)-\\frac{1}{2}log(det(\\sigma_1^2ZZ' + \\sigma_0^2I_n))-\\frac{1}{2}(y-\\mu)^{'}(\\sigma_1^2ZZ' + \\sigma_0^2I_n)^{-1}(y-\\mu)$"
   ]
  },
  {
   "cell_type": "markdown",
   "metadata": {},
   "source": [
    "Next, we write the function dmvnorm_lowrank(y, mu, Z, sigma0, sigma1, log = FALSE). We see that the execution time is a little under 3 milliseconds."
   ]
  },
  {
   "cell_type": "code",
   "execution_count": 659,
   "metadata": {},
   "outputs": [
    {
     "data": {
      "text/plain": [
       "-115.94336634240423"
      ]
     },
     "execution_count": 659,
     "metadata": {},
     "output_type": "execute_result"
    }
   ],
   "source": [
    "import math\n",
    "\n",
    "\n",
    "def dmvnorm_lowrank(y,mu,Z,sigma0,sigma1,log=False):\n",
    "    n = len(Z)\n",
    "    A = (sigma0**2)*np.identity(n)\n",
    "    U = np.multiply(sigma1,Z)\n",
    "    V = np.multiply(sigma1,Z)\n",
    "\n",
    "    woodbury = np.linalg.inv(A) - np.linalg.inv(A)@U@np.linalg.inv(np.identity(5)+np.transpose(V)@np.linalg.inv(A)@U)@np.transpose(V)@np.linalg.inv(A)\n",
    "\n",
    "    pi = math.pi\n",
    "    \n",
    "    result = ( ( - n / 2)*np.log(2 * pi) \n",
    "            - (1 / 2)*np.log(np.linalg.det(A)*\n",
    "                             np.linalg.det(np.identity(5)+np.transpose(V)@np.linalg.inv(A)@U))\n",
    "            - (1 / 2)*(np.transpose(y-mu)@woodbury@(y-mu) ))\n",
    "    \n",
    "    if log == False:\n",
    "        \n",
    "\n",
    "        return result\n",
    "    \n",
    "    if log == True:\n",
    "        \n",
    "        return math.e**(result)\n",
    "\n",
    "np.random.seed(630)\n",
    "# Set mu = 67\n",
    "\n",
    "\n",
    "mu = np.random.normal(67,1,50)\n",
    "y = np.random.normal(67,1,50)\n",
    "\n",
    "\n",
    "\n",
    "# Initialize the fixed matrix Z and sigma0, sigma1\n",
    "Z = np.random.normal(67,2,size=(50,5))\n",
    "sigma0 = 2\n",
    "sigma1 = 4\n",
    "\n",
    "dmvnorm_lowrank(y,mu,Z,sigma0,sigma1,log=False)"
   ]
  },
  {
   "cell_type": "code",
   "execution_count": 660,
   "metadata": {},
   "outputs": [
    {
     "name": "stdout",
     "output_type": "stream",
     "text": [
      "2.75 ms ± 12.4 µs per loop (mean ± std. dev. of 7 runs, 100 loops each)\n"
     ]
    }
   ],
   "source": [
    "%%timeit -n 100\n",
    "\n",
    "dmvnorm_lowrank(y,mu,Z,sigma0,sigma1,log=True)"
   ]
  },
  {
   "cell_type": "markdown",
   "metadata": {},
   "source": [
    "11. Some numpy functions which utilize LAPACK and BLAS together include np.linalg.cholesky() (for cholesky decomposition) as well as the np.matmul() for matrix-matrix multiplication. np.linalg.eig() also uses LAPACK and BLAS to calculate the eigenvalues and eigenvectors of a square array."
   ]
  }
 ],
 "metadata": {
  "kernelspec": {
   "display_name": "Python 3",
   "language": "python",
   "name": "python3"
  },
  "language_info": {
   "codemirror_mode": {
    "name": "ipython",
    "version": 3
   },
   "file_extension": ".py",
   "mimetype": "text/x-python",
   "name": "python",
   "nbconvert_exporter": "python",
   "pygments_lexer": "ipython3",
   "version": "3.9.1"
  }
 },
 "nbformat": 4,
 "nbformat_minor": 4
}
